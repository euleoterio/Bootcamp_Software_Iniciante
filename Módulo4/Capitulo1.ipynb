{
  "nbformat": 4,
  "nbformat_minor": 0,
  "metadata": {
    "colab": {
      "name": "Capitulo1.ipynb",
      "provenance": [],
      "collapsed_sections": []
    },
    "kernelspec": {
      "name": "python3",
      "display_name": "Python 3"
    }
  },
  "cells": [
    {
      "cell_type": "code",
      "metadata": {
        "id": "YaFFT9DrKI95",
        "colab_type": "code",
        "colab": {
          "base_uri": "https://localhost:8080/",
          "height": 68
        },
        "outputId": "856af8b3-d781-4624-a439-153ef78874a1"
      },
      "source": [
        "#comentários\n",
        "nome = \"Vinicius tem {} anos, pesa {} kg\"\n",
        "idade = 24\n",
        "peso = 100\n",
        "print(nome)\n",
        "print(idade)\n",
        "print(nome.format(idade,peso))"
      ],
      "execution_count": null,
      "outputs": [
        {
          "output_type": "stream",
          "text": [
            "Vinicius tem {} anos, pesa {} kg\n",
            "24\n",
            "Vinicius tem 24 anos, pesa 100 kg\n"
          ],
          "name": "stdout"
        }
      ]
    },
    {
      "cell_type": "code",
      "metadata": {
        "id": "oETXsDPTLq9-",
        "colab_type": "code",
        "colab": {
          "base_uri": "https://localhost:8080/",
          "height": 85
        },
        "outputId": "c1de26e3-2e0d-4edd-b9b1-06a3d5e3976f"
      },
      "source": [
        "#input(\"text\") -- abre input para usuário\n",
        "#Nome como o passaporte\n",
        "#Exemplo: Henrique Euleoterio, Vinicius\n",
        "nome = input(\"Digite seu primeiro nome: \")\n",
        "sobrenome = input(\"Digite seu sobrenome: \")\n",
        "print(\"O nome conforme o passaporte é: \" + sobrenome + \", \" + nome)\n",
        "print(\"O nome conforme o passaporte é: {}, {}\".format(sobrenome,nome))"
      ],
      "execution_count": null,
      "outputs": [
        {
          "output_type": "stream",
          "text": [
            "Digite seu primeiro nome: Vinicius\n",
            "Digite seu sobrenome: Euleoterio\n",
            "O nome conforme o passaporte é: Euleoterio, Vinicius\n",
            "O nome conforme o passaporte é: Euleoterio, Vinicius\n"
          ],
          "name": "stdout"
        }
      ]
    },
    {
      "cell_type": "code",
      "metadata": {
        "id": "ng1UtumBNYxx",
        "colab_type": "code",
        "colab": {
          "base_uri": "https://localhost:8080/",
          "height": 85
        },
        "outputId": "e98b16f5-338e-4dd6-8a48-02a852302c65"
      },
      "source": [
        "nome = input(\"Digite o primeiro nome: \")\n",
        "sobrenome = input(\"Digite seu sobre nome: \")\n",
        "sobrenome = sobrenome.capitalize()\n",
        "#.capitalize -- Coloca primeira letra em maiúsculo, pode usar no print ou para salvar\n",
        "print(\"Nome: {} - Sobrenome: {}\".format(nome.capitalize(),sobrenome))\n",
        "\n",
        "nome = nome.capitalize()\n",
        "nome_completo = nome + \" \" + sobrenome\n",
        "print(\"Nome completo: {}\".format(nome_completo))"
      ],
      "execution_count": null,
      "outputs": [
        {
          "output_type": "stream",
          "text": [
            "Digite o primeiro nome: vinicius\n",
            "Digite seu sobre nome: euleoterio\n",
            "Nome: Vinicius - Sobrenome: Euleoterio\n",
            "Nome completo: vinicius Euleoterio\n"
          ],
          "name": "stdout"
        }
      ]
    },
    {
      "cell_type": "code",
      "metadata": {
        "id": "7tJTbYK9OgkG",
        "colab_type": "code",
        "colab": {
          "base_uri": "https://localhost:8080/",
          "height": 68
        },
        "outputId": "6480c72b-d90b-4a22-facc-790f2aaa2c1e"
      },
      "source": [
        "nome = \"Vinicius Henrique Euleoterio\"\n",
        "print(\"Tamanho da variável: {}\".format(len(nome)))\n",
        "nome_array = nome.split()\n",
        "print(nome_array)\n",
        "print(\"Primeiro nome: {}\".format(nome_array[0]))"
      ],
      "execution_count": null,
      "outputs": [
        {
          "output_type": "stream",
          "text": [
            "Tamanho da variável: 28\n",
            "['Vinicius', 'Henrique', 'Euleoterio']\n",
            "Primeiro nome: Vinicius\n"
          ],
          "name": "stdout"
        }
      ]
    },
    {
      "cell_type": "code",
      "metadata": {
        "id": "cEdFk2yWPvvN",
        "colab_type": "code",
        "colab": {
          "base_uri": "https://localhost:8080/",
          "height": 51
        },
        "outputId": "c2b1d5b1-59a1-4d9c-9fac-c3bcab00bacb"
      },
      "source": [
        "nome = \"Vinicius Henrique Euleoterio\"\n",
        "#string[z:y] --- seleciona da posicao x até < y \n",
        "primeiro_nome = nome[0:8]\n",
        "# -x -- pega da x posição contando de traz para frente e : vai até o final\n",
        "sobrenome = nome[-10:]\n",
        "print(primeiro_nome)\n",
        "print(sobrenome)"
      ],
      "execution_count": null,
      "outputs": [
        {
          "output_type": "stream",
          "text": [
            "Vinicius\n",
            "Euleoterio\n"
          ],
          "name": "stdout"
        }
      ]
    },
    {
      "cell_type": "code",
      "metadata": {
        "id": "R6_4m8ehRFH2",
        "colab_type": "code",
        "colab": {
          "base_uri": "https://localhost:8080/",
          "height": 68
        },
        "outputId": "1eb27b5b-2ebd-44a5-b40b-30471e5ffaef"
      },
      "source": [
        "nome = input(\"Digite seu nome: \")\n",
        "print(\"Gravo só 20 letras. Será gravado {}\".format(nome[0:20]))\n",
        "\n",
        "primeiro_espaco = nome.index(\" \")\n",
        "print(\"O primeiro nome é: {} \".format(nome[0:primeiro_espaco]))"
      ],
      "execution_count": null,
      "outputs": [
        {
          "output_type": "stream",
          "text": [
            "Digite seu nome: Vinicius Henrique Euleoterio\n",
            "Gravo só 20 letras. Será gravado Vinicius Henrique Eu\n",
            "O primeiro nome é Vinicius \n"
          ],
          "name": "stdout"
        }
      ]
    },
    {
      "cell_type": "code",
      "metadata": {
        "id": "xo1f-Ut6SBMR",
        "colab_type": "code",
        "colab": {
          "base_uri": "https://localhost:8080/",
          "height": 34
        },
        "outputId": "b1c7d221-353c-4c02-87e8-2d476c46ae2b"
      },
      "source": [
        "frase = \"  // Esta é uma frase de teste     \"\n",
        "frase = frase.strip().strip(\"/\")\n",
        "print(frase)"
      ],
      "execution_count": 41,
      "outputs": [
        {
          "output_type": "stream",
          "text": [
            " Esta é uma frase de teste\n"
          ],
          "name": "stdout"
        }
      ]
    },
    {
      "cell_type": "code",
      "metadata": {
        "id": "hygv7SLrTKN8",
        "colab_type": "code",
        "colab": {
          "base_uri": "https://localhost:8080/",
          "height": 119
        },
        "outputId": "125ad35d-d4fb-429c-cce4-8b2852264d40"
      },
      "source": [
        "idade = \"dezAnos\"\n",
        "#.isalpha verificar se existem SOMENTE letras na string\n",
        "print(idade.isalpha())\n",
        "\n",
        "\n",
        "idade_int = input(\"Digite a sua idade: \")\n",
        "#.isdigit verifica se são APENAS números\n",
        "print(idade_int.isdigit())\n",
        "\n",
        "\n",
        "peso = input(\"Digite seu peso: \")\n",
        "peso_dividido = peso.split(\".\")\n",
        "print(peso_dividido[0].isdigit())\n",
        "print(peso_dividido[1].isdigit())"
      ],
      "execution_count": 45,
      "outputs": [
        {
          "output_type": "stream",
          "text": [
            "True\n",
            "Digite a sua idade: 10\n",
            "True\n",
            "Digite seu peso: 120.5\n",
            "True\n",
            "True\n"
          ],
          "name": "stdout"
        }
      ]
    },
    {
      "cell_type": "code",
      "metadata": {
        "id": "GXcjmhMdWGOB",
        "colab_type": "code",
        "colab": {
          "base_uri": "https://localhost:8080/",
          "height": 51
        },
        "outputId": "c90e8966-1442-4676-bc4e-c1d2f5ee7ef2"
      },
      "source": [
        "idade = 18\n",
        "print(idade)\n",
        "peso = 80.9\n",
        "print(peso)"
      ],
      "execution_count": 46,
      "outputs": [
        {
          "output_type": "stream",
          "text": [
            "18\n",
            "80.9\n"
          ],
          "name": "stdout"
        }
      ]
    },
    {
      "cell_type": "code",
      "metadata": {
        "id": "ZQ63bS6HWLPu",
        "colab_type": "code",
        "colab": {
          "base_uri": "https://localhost:8080/",
          "height": 68
        },
        "outputId": "b7c3d07d-9fa3-4f12-b7d4-c68dbbe8ecda"
      },
      "source": [
        "preco_arroz = 4.99\n",
        "quilos = 10\n",
        "print(preco_arroz*quilos)\n",
        "\n",
        "print(type(preco_arroz))\n",
        "print(type(quilos))"
      ],
      "execution_count": 51,
      "outputs": [
        {
          "output_type": "stream",
          "text": [
            "49.900000000000006\n",
            "<class 'float'>\n",
            "<class 'int'>\n"
          ],
          "name": "stdout"
        }
      ]
    },
    {
      "cell_type": "code",
      "metadata": {
        "id": "f9cPlCmOXA2y",
        "colab_type": "code",
        "colab": {
          "base_uri": "https://localhost:8080/",
          "height": 68
        },
        "outputId": "ec249424-f368-452a-ea31-0fbbb9ffc37a"
      },
      "source": [
        "#Programa para calcular o IMC\n",
        "#Equação peso / (altura**2) --- x**2 faz o x ao quadrado\n",
        "\n",
        "peso = input(\"Digite o seu peso: \")\n",
        "altura = input(\"Digite a sua altura: \")\n",
        "\n",
        "peso = float(peso)\n",
        "altura = float(altura) \n",
        "imc = peso / (altura**2)\n",
        "\n",
        "print(\"Seu IMC é: {}\".format(imc))"
      ],
      "execution_count": 56,
      "outputs": [
        {
          "output_type": "stream",
          "text": [
            "Digite o seu peso: 130\n",
            "Digite a sua altura: 1.83\n",
            "Seu IMC é: 38.81871659350831\n"
          ],
          "name": "stdout"
        }
      ]
    }
  ]
}